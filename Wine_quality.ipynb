{
  "nbformat": 4,
  "nbformat_minor": 0,
  "metadata": {
    "kernelspec": {
      "display_name": "Python 3",
      "language": "python",
      "name": "python3"
    },
    "language_info": {
      "codemirror_mode": {
        "name": "ipython",
        "version": 3
      },
      "file_extension": ".py",
      "mimetype": "text/x-python",
      "name": "python",
      "nbconvert_exporter": "python",
      "pygments_lexer": "ipython3",
      "version": "3.7.4"
    },
    "colab": {
      "name": "Wine_quality.ipynb",
      "provenance": [],
      "collapsed_sections": []
    }
  },
  "cells": [
    {
      "cell_type": "code",
      "metadata": {
        "id": "2Y4069VP_qx4"
      },
      "source": [
        "import numpy as np\n",
        "import pandas as pd\n",
        "# Plotting\n",
        "import seaborn as sns\n",
        "import matplotlib.pyplot as plt\n",
        "# Feature scaling\n",
        "from sklearn.preprocessing import StandardScaler\n",
        "# Models\n",
        "from sklearn.linear_model import LogisticRegression\n",
        "from sklearn.tree import  DecisionTreeClassifier, plot_tree\n",
        "from sklearn.ensemble import RandomForestClassifier\n",
        "# CV\n",
        "from sklearn.model_selection import train_test_split, KFold\n",
        "# Scores\n",
        "from sklearn.metrics import recall_score,precision_score,accuracy_score\n",
        "import warnings\n",
        "warnings.filterwarnings('ignore')"
      ],
      "execution_count": 58,
      "outputs": []
    },
    {
      "cell_type": "markdown",
      "metadata": {
        "id": "usLDaaKYC3Fk"
      },
      "source": [
        "# Meeting the data"
      ]
    },
    {
      "cell_type": "code",
      "metadata": {
        "id": "E1fLz8pZ_qx7",
        "colab": {
          "base_uri": "https://localhost:8080/"
        },
        "outputId": "3a7c9e8e-2ab2-4d0f-b354-d80c753f68c1"
      },
      "source": [
        "data = pd.read_csv('winequalityN.csv')\n",
        "data.shape"
      ],
      "execution_count": 59,
      "outputs": [
        {
          "output_type": "execute_result",
          "data": {
            "text/plain": [
              "(6497, 13)"
            ]
          },
          "metadata": {
            "tags": []
          },
          "execution_count": 59
        }
      ]
    },
    {
      "cell_type": "code",
      "metadata": {
        "id": "G3TVUh73_qx9",
        "colab": {
          "base_uri": "https://localhost:8080/",
          "height": 195
        },
        "outputId": "2d39e971-b843-45e7-bc9a-f01aa4f63dae"
      },
      "source": [
        "data.head()"
      ],
      "execution_count": 60,
      "outputs": [
        {
          "output_type": "execute_result",
          "data": {
            "text/html": [
              "<div>\n",
              "<style scoped>\n",
              "    .dataframe tbody tr th:only-of-type {\n",
              "        vertical-align: middle;\n",
              "    }\n",
              "\n",
              "    .dataframe tbody tr th {\n",
              "        vertical-align: top;\n",
              "    }\n",
              "\n",
              "    .dataframe thead th {\n",
              "        text-align: right;\n",
              "    }\n",
              "</style>\n",
              "<table border=\"1\" class=\"dataframe\">\n",
              "  <thead>\n",
              "    <tr style=\"text-align: right;\">\n",
              "      <th></th>\n",
              "      <th>type</th>\n",
              "      <th>fixed acidity</th>\n",
              "      <th>volatile acidity</th>\n",
              "      <th>citric acid</th>\n",
              "      <th>residual sugar</th>\n",
              "      <th>chlorides</th>\n",
              "      <th>free sulfur dioxide</th>\n",
              "      <th>total sulfur dioxide</th>\n",
              "      <th>density</th>\n",
              "      <th>pH</th>\n",
              "      <th>sulphates</th>\n",
              "      <th>alcohol</th>\n",
              "      <th>quality</th>\n",
              "    </tr>\n",
              "  </thead>\n",
              "  <tbody>\n",
              "    <tr>\n",
              "      <th>0</th>\n",
              "      <td>white</td>\n",
              "      <td>7.0</td>\n",
              "      <td>0.27</td>\n",
              "      <td>0.36</td>\n",
              "      <td>20.7</td>\n",
              "      <td>0.045</td>\n",
              "      <td>45.0</td>\n",
              "      <td>170.0</td>\n",
              "      <td>1.0010</td>\n",
              "      <td>3.00</td>\n",
              "      <td>0.45</td>\n",
              "      <td>8.8</td>\n",
              "      <td>6</td>\n",
              "    </tr>\n",
              "    <tr>\n",
              "      <th>1</th>\n",
              "      <td>white</td>\n",
              "      <td>6.3</td>\n",
              "      <td>0.30</td>\n",
              "      <td>0.34</td>\n",
              "      <td>1.6</td>\n",
              "      <td>0.049</td>\n",
              "      <td>14.0</td>\n",
              "      <td>132.0</td>\n",
              "      <td>0.9940</td>\n",
              "      <td>3.30</td>\n",
              "      <td>0.49</td>\n",
              "      <td>9.5</td>\n",
              "      <td>6</td>\n",
              "    </tr>\n",
              "    <tr>\n",
              "      <th>2</th>\n",
              "      <td>white</td>\n",
              "      <td>8.1</td>\n",
              "      <td>0.28</td>\n",
              "      <td>0.40</td>\n",
              "      <td>6.9</td>\n",
              "      <td>0.050</td>\n",
              "      <td>30.0</td>\n",
              "      <td>97.0</td>\n",
              "      <td>0.9951</td>\n",
              "      <td>3.26</td>\n",
              "      <td>0.44</td>\n",
              "      <td>10.1</td>\n",
              "      <td>6</td>\n",
              "    </tr>\n",
              "    <tr>\n",
              "      <th>3</th>\n",
              "      <td>white</td>\n",
              "      <td>7.2</td>\n",
              "      <td>0.23</td>\n",
              "      <td>0.32</td>\n",
              "      <td>8.5</td>\n",
              "      <td>0.058</td>\n",
              "      <td>47.0</td>\n",
              "      <td>186.0</td>\n",
              "      <td>0.9956</td>\n",
              "      <td>3.19</td>\n",
              "      <td>0.40</td>\n",
              "      <td>9.9</td>\n",
              "      <td>6</td>\n",
              "    </tr>\n",
              "    <tr>\n",
              "      <th>4</th>\n",
              "      <td>white</td>\n",
              "      <td>7.2</td>\n",
              "      <td>0.23</td>\n",
              "      <td>0.32</td>\n",
              "      <td>8.5</td>\n",
              "      <td>0.058</td>\n",
              "      <td>47.0</td>\n",
              "      <td>186.0</td>\n",
              "      <td>0.9956</td>\n",
              "      <td>3.19</td>\n",
              "      <td>0.40</td>\n",
              "      <td>9.9</td>\n",
              "      <td>6</td>\n",
              "    </tr>\n",
              "  </tbody>\n",
              "</table>\n",
              "</div>"
            ],
            "text/plain": [
              "    type  fixed acidity  volatile acidity  ...  sulphates  alcohol  quality\n",
              "0  white            7.0              0.27  ...       0.45      8.8        6\n",
              "1  white            6.3              0.30  ...       0.49      9.5        6\n",
              "2  white            8.1              0.28  ...       0.44     10.1        6\n",
              "3  white            7.2              0.23  ...       0.40      9.9        6\n",
              "4  white            7.2              0.23  ...       0.40      9.9        6\n",
              "\n",
              "[5 rows x 13 columns]"
            ]
          },
          "metadata": {
            "tags": []
          },
          "execution_count": 60
        }
      ]
    },
    {
      "cell_type": "code",
      "metadata": {
        "id": "CNeLyjb35DDi"
      },
      "source": [
        "columns = data.columns"
      ],
      "execution_count": 61,
      "outputs": []
    },
    {
      "cell_type": "code",
      "metadata": {
        "id": "kFzQ9_d2_qx9",
        "colab": {
          "base_uri": "https://localhost:8080/"
        },
        "outputId": "a597f1bc-ed0c-4963-9b88-47b43a6e96f2"
      },
      "source": [
        "print(data['type'].value_counts())"
      ],
      "execution_count": 62,
      "outputs": [
        {
          "output_type": "stream",
          "text": [
            "white    4898\n",
            "red      1599\n",
            "Name: type, dtype: int64\n"
          ],
          "name": "stdout"
        }
      ]
    },
    {
      "cell_type": "code",
      "metadata": {
        "id": "N24UwqE9_qx9",
        "colab": {
          "base_uri": "https://localhost:8080/"
        },
        "outputId": "52f57129-7527-4542-91d6-7a359142ab14"
      },
      "source": [
        "print(data['quality'].value_counts())"
      ],
      "execution_count": 63,
      "outputs": [
        {
          "output_type": "stream",
          "text": [
            "6    2836\n",
            "5    2138\n",
            "7    1079\n",
            "4     216\n",
            "8     193\n",
            "3      30\n",
            "9       5\n",
            "Name: quality, dtype: int64\n"
          ],
          "name": "stdout"
        }
      ]
    },
    {
      "cell_type": "code",
      "metadata": {
        "colab": {
          "base_uri": "https://localhost:8080/"
        },
        "id": "5w2iaCRi3HXk",
        "outputId": "9f835f13-1e68-4b09-a180-01faab3eec38"
      },
      "source": [
        "print(data.info())"
      ],
      "execution_count": 64,
      "outputs": [
        {
          "output_type": "stream",
          "text": [
            "<class 'pandas.core.frame.DataFrame'>\n",
            "RangeIndex: 6497 entries, 0 to 6496\n",
            "Data columns (total 13 columns):\n",
            " #   Column                Non-Null Count  Dtype  \n",
            "---  ------                --------------  -----  \n",
            " 0   type                  6497 non-null   object \n",
            " 1   fixed acidity         6487 non-null   float64\n",
            " 2   volatile acidity      6489 non-null   float64\n",
            " 3   citric acid           6494 non-null   float64\n",
            " 4   residual sugar        6495 non-null   float64\n",
            " 5   chlorides             6495 non-null   float64\n",
            " 6   free sulfur dioxide   6497 non-null   float64\n",
            " 7   total sulfur dioxide  6497 non-null   float64\n",
            " 8   density               6497 non-null   float64\n",
            " 9   pH                    6488 non-null   float64\n",
            " 10  sulphates             6493 non-null   float64\n",
            " 11  alcohol               6497 non-null   float64\n",
            " 12  quality               6497 non-null   int64  \n",
            "dtypes: float64(11), int64(1), object(1)\n",
            "memory usage: 660.0+ KB\n",
            "None\n"
          ],
          "name": "stdout"
        }
      ]
    },
    {
      "cell_type": "markdown",
      "metadata": {
        "id": "juylTzIQ_qx-"
      },
      "source": [
        "# EDA"
      ]
    },
    {
      "cell_type": "markdown",
      "metadata": {
        "id": "QIfN8NyG3O17"
      },
      "source": [
        "## Plotting"
      ]
    },
    {
      "cell_type": "code",
      "metadata": {
        "colab": {
          "base_uri": "https://localhost:8080/"
        },
        "id": "nn0uw3SGAIp9",
        "outputId": "e1b84109-9952-4003-a83c-25472d45d767"
      },
      "source": [
        "whites = data[data['type'] == 'white']\n",
        "reds = data[data['type'] == 'red']\n",
        "print(whites.shape)\n",
        "print(reds.shape)"
      ],
      "execution_count": 65,
      "outputs": [
        {
          "output_type": "stream",
          "text": [
            "(4898, 13)\n",
            "(1599, 13)\n"
          ],
          "name": "stdout"
        }
      ]
    },
    {
      "cell_type": "code",
      "metadata": {
        "colab": {
          "base_uri": "https://localhost:8080/",
          "height": 277
        },
        "id": "rQsvTkAY9LqM",
        "outputId": "f7840aa4-5db9-42f7-9332-567a2946e931"
      },
      "source": [
        "plt.bar(whites['quality'], whites['fixed acidity'], color='b', width=0.2)\n",
        "plt.bar(reds['quality']+0.2, reds['fixed acidity'], color='g', width=0.2)\n",
        "plt.show()"
      ],
      "execution_count": 66,
      "outputs": [
        {
          "output_type": "display_data",
          "data": {
            "image/png": "[encoded data removed]",
            "text/plain": [
              "<Figure size 432x288 with 1 Axes>"
            ]
          },
          "metadata": {
            "tags": []
          }
        }
      ]
    },
    {
      "cell_type": "markdown",
      "metadata": {
        "id": "hQDiRFmsB6O_"
      },
      "source": [
        "Idea for the future: we can use to models separately for reds and whites, if something goes wrong"
      ]
    },
    {
      "cell_type": "code",
      "metadata": {
        "id": "vBOL4hy-_qx-",
        "colab": {
          "base_uri": "https://localhost:8080/",
          "height": 317
        },
        "outputId": "51fb3e8b-5c7f-431f-ef77-dc9dda372ce4"
      },
      "source": [
        "sns.barplot(data['type'], data['quality'])"
      ],
      "execution_count": 67,
      "outputs": [
        {
          "output_type": "execute_result",
          "data": {
            "text/plain": [
              "<matplotlib.axes._subplots.AxesSubplot at 0x7f13982e9390>"
            ]
          },
          "metadata": {
            "tags": []
          },
          "execution_count": 67
        },
        {
          "output_type": "display_data",
          "data": {
            "image/png": "[encoded data removed]",
            "text/plain": [
              "<Figure size 432x288 with 1 Axes>"
            ]
          },
          "metadata": {
            "tags": []
          }
        }
      ]
    },
    {
      "cell_type": "code",
      "metadata": {
        "id": "XHC0dKv-_qx_",
        "colab": {
          "base_uri": "https://localhost:8080/",
          "height": 317
        },
        "outputId": "e3403bd6-72df-449f-bbdf-e2497758898c"
      },
      "source": [
        "sns.barplot(data['quality'], data['fixed acidity'])"
      ],
      "execution_count": 68,
      "outputs": [
        {
          "output_type": "execute_result",
          "data": {
            "text/plain": [
              "<matplotlib.axes._subplots.AxesSubplot at 0x7f1395c91850>"
            ]
          },
          "metadata": {
            "tags": []
          },
          "execution_count": 68
        },
        {
          "output_type": "display_data",
          "data": {
            "image/png": "[encoded data removed]",
            "text/plain": [
              "<Figure size 432x288 with 1 Axes>"
            ]
          },
          "metadata": {
            "tags": []
          }
        }
      ]
    },
    {
      "cell_type": "markdown",
      "metadata": {
        "id": "c4_wUIY7_qx_"
      },
      "source": [
        "Fixed acidity does not give any specification to classify the quality"
      ]
    },
    {
      "cell_type": "code",
      "metadata": {
        "scrolled": true,
        "id": "yptjY5Kc_qyA",
        "colab": {
          "base_uri": "https://localhost:8080/",
          "height": 317
        },
        "outputId": "8872846e-b9af-4821-e90e-3ee0f80bdddc"
      },
      "source": [
        "sns.barplot(data['quality'],data['volatile acidity'])"
      ],
      "execution_count": 69,
      "outputs": [
        {
          "output_type": "execute_result",
          "data": {
            "text/plain": [
              "<matplotlib.axes._subplots.AxesSubplot at 0x7f1397c5a810>"
            ]
          },
          "metadata": {
            "tags": []
          },
          "execution_count": 69
        },
        {
          "output_type": "display_data",
          "data": {
            "image/png": "[encoded data removed]",
            "text/plain": [
              "<Figure size 432x288 with 1 Axes>"
            ]
          },
          "metadata": {
            "tags": []
          }
        }
      ]
    },
    {
      "cell_type": "markdown",
      "metadata": {
        "id": "w1ceHy0C_qyA"
      },
      "source": [
        "The quality increases when the volatile acidity decreases"
      ]
    },
    {
      "cell_type": "code",
      "metadata": {
        "id": "3FW1CY5e_qyA",
        "colab": {
          "base_uri": "https://localhost:8080/",
          "height": 317
        },
        "outputId": "bcf1251a-f112-4f04-c9c7-998221bdd170"
      },
      "source": [
        "sns.barplot(data['quality'],data['citric acid'])"
      ],
      "execution_count": 70,
      "outputs": [
        {
          "output_type": "execute_result",
          "data": {
            "text/plain": [
              "<matplotlib.axes._subplots.AxesSubplot at 0x7f139a8637d0>"
            ]
          },
          "metadata": {
            "tags": []
          },
          "execution_count": 70
        },
        {
          "output_type": "display_data",
          "data": {
            "image/png": "[encoded data removed]",
            "text/plain": [
              "<Figure size 432x288 with 1 Axes>"
            ]
          },
          "metadata": {
            "tags": []
          }
        }
      ]
    },
    {
      "cell_type": "markdown",
      "metadata": {
        "id": "m3p5gURv_qyB"
      },
      "source": [
        "Quality of the wine increases, when citric acid increases"
      ]
    },
    {
      "cell_type": "code",
      "metadata": {
        "id": "stEdeV7q_qyB",
        "colab": {
          "base_uri": "https://localhost:8080/",
          "height": 317
        },
        "outputId": "cb513508-220a-49e2-cd63-0545fc40056c"
      },
      "source": [
        "sns.barplot(data['quality'],data['residual sugar'])"
      ],
      "execution_count": 71,
      "outputs": [
        {
          "output_type": "execute_result",
          "data": {
            "text/plain": [
              "<matplotlib.axes._subplots.AxesSubplot at 0x7f1399be0e50>"
            ]
          },
          "metadata": {
            "tags": []
          },
          "execution_count": 71
        },
        {
          "output_type": "display_data",
          "data": {
            "image/png": "[encoded data removed]",
            "text/plain": [
              "<Figure size 432x288 with 1 Axes>"
            ]
          },
          "metadata": {
            "tags": []
          }
        }
      ]
    },
    {
      "cell_type": "markdown",
      "metadata": {
        "id": "9rXRCqmI_qyB"
      },
      "source": [
        "There is no conclusion"
      ]
    },
    {
      "cell_type": "code",
      "metadata": {
        "id": "fVb82z3y_qyB",
        "colab": {
          "base_uri": "https://localhost:8080/",
          "height": 317
        },
        "outputId": "ca5e2be4-f68f-4089-d27f-11098f9ea0c8"
      },
      "source": [
        "sns.barplot(data['quality'],data['chlorides'])"
      ],
      "execution_count": 72,
      "outputs": [
        {
          "output_type": "execute_result",
          "data": {
            "text/plain": [
              "<matplotlib.axes._subplots.AxesSubplot at 0x7f1399bdcd10>"
            ]
          },
          "metadata": {
            "tags": []
          },
          "execution_count": 72
        },
        {
          "output_type": "display_data",
          "data": {
            "image/png": "[encoded data removed]",
            "text/plain": [
              "<Figure size 432x288 with 1 Axes>"
            ]
          },
          "metadata": {
            "tags": []
          }
        }
      ]
    },
    {
      "cell_type": "markdown",
      "metadata": {
        "id": "ekOLWY7l_qyC"
      },
      "source": [
        "The quality increases when the volatile acidity decreases"
      ]
    },
    {
      "cell_type": "code",
      "metadata": {
        "id": "N_qoHnID_qyC",
        "colab": {
          "base_uri": "https://localhost:8080/",
          "height": 317
        },
        "outputId": "6d592502-ff65-4457-f613-1596b5fc2b63"
      },
      "source": [
        "sns.barplot(data['quality'],data['free sulfur dioxide'])"
      ],
      "execution_count": 73,
      "outputs": [
        {
          "output_type": "execute_result",
          "data": {
            "text/plain": [
              "<matplotlib.axes._subplots.AxesSubplot at 0x7f1398bce2d0>"
            ]
          },
          "metadata": {
            "tags": []
          },
          "execution_count": 73
        },
        {
          "output_type": "display_data",
          "data": {
            "image/png": "[encoded data removed]",
            "text/plain": [
              "<Figure size 432x288 with 1 Axes>"
            ]
          },
          "metadata": {
            "tags": []
          }
        }
      ]
    },
    {
      "cell_type": "markdown",
      "metadata": {
        "id": "Rs-ABjET_qyC"
      },
      "source": [
        "There is no conclusion"
      ]
    },
    {
      "cell_type": "code",
      "metadata": {
        "id": "jmgrNJnM_qyD",
        "colab": {
          "base_uri": "https://localhost:8080/",
          "height": 317
        },
        "outputId": "49a0f8c9-ccd9-43e3-c8b0-6a0940622f04"
      },
      "source": [
        "sns.barplot(data['quality'],data['total sulfur dioxide'])"
      ],
      "execution_count": 74,
      "outputs": [
        {
          "output_type": "execute_result",
          "data": {
            "text/plain": [
              "<matplotlib.axes._subplots.AxesSubplot at 0x7f139a8a4e50>"
            ]
          },
          "metadata": {
            "tags": []
          },
          "execution_count": 74
        },
        {
          "output_type": "display_data",
          "data": {
            "image/png": "[encoded data removed]",
            "text/plain": [
              "<Figure size 432x288 with 1 Axes>"
            ]
          },
          "metadata": {
            "tags": []
          }
        }
      ]
    },
    {
      "cell_type": "markdown",
      "metadata": {
        "id": "pBG-HkaZ_qyD"
      },
      "source": [
        "There is no conclusion"
      ]
    },
    {
      "cell_type": "code",
      "metadata": {
        "id": "0DUMdKNU_qyD",
        "colab": {
          "base_uri": "https://localhost:8080/",
          "height": 317
        },
        "outputId": "e824c7b8-49da-4292-89c3-f8e8a6f70eed"
      },
      "source": [
        "sns.barplot(data['quality'],data['density'])"
      ],
      "execution_count": 75,
      "outputs": [
        {
          "output_type": "execute_result",
          "data": {
            "text/plain": [
              "<matplotlib.axes._subplots.AxesSubplot at 0x7f1399c76f50>"
            ]
          },
          "metadata": {
            "tags": []
          },
          "execution_count": 75
        },
        {
          "output_type": "display_data",
          "data": {
            "image/png": "[encoded data removed]",
            "text/plain": [
              "<Figure size 432x288 with 1 Axes>"
            ]
          },
          "metadata": {
            "tags": []
          }
        }
      ]
    },
    {
      "cell_type": "code",
      "metadata": {
        "id": "6RV_k2cM_qyD",
        "colab": {
          "base_uri": "https://localhost:8080/"
        },
        "outputId": "77d196ea-50fb-4296-f7d7-a9be83c3360c"
      },
      "source": [
        "data['density'].describe()"
      ],
      "execution_count": 76,
      "outputs": [
        {
          "output_type": "execute_result",
          "data": {
            "text/plain": [
              "count    6497.000000\n",
              "mean        0.994697\n",
              "std         0.002999\n",
              "min         0.987110\n",
              "25%         0.992340\n",
              "50%         0.994890\n",
              "75%         0.996990\n",
              "max         1.038980\n",
              "Name: density, dtype: float64"
            ]
          },
          "metadata": {
            "tags": []
          },
          "execution_count": 76
        }
      ]
    },
    {
      "cell_type": "markdown",
      "metadata": {
        "id": "4KcLDzNb3zAd"
      },
      "source": [
        "We definitely need some feature scaling"
      ]
    },
    {
      "cell_type": "code",
      "metadata": {
        "id": "s0ZADaIc_qyE",
        "colab": {
          "base_uri": "https://localhost:8080/",
          "height": 317
        },
        "outputId": "c0f57a19-fd8c-479f-96bf-c0c4abac07a9"
      },
      "source": [
        "sns.barplot(data['quality'],data['pH'])"
      ],
      "execution_count": 77,
      "outputs": [
        {
          "output_type": "execute_result",
          "data": {
            "text/plain": [
              "<matplotlib.axes._subplots.AxesSubplot at 0x7f1399c7e850>"
            ]
          },
          "metadata": {
            "tags": []
          },
          "execution_count": 77
        },
        {
          "output_type": "display_data",
          "data": {
            "image/png": "[encoded data removed]",
            "text/plain": [
              "<Figure size 432x288 with 1 Axes>"
            ]
          },
          "metadata": {
            "tags": []
          }
        }
      ]
    },
    {
      "cell_type": "markdown",
      "metadata": {
        "id": "AwIT89P-38zJ"
      },
      "source": [
        "Here too"
      ]
    },
    {
      "cell_type": "code",
      "metadata": {
        "id": "V973hZmD_qyE",
        "colab": {
          "base_uri": "https://localhost:8080/",
          "height": 317
        },
        "outputId": "2d035f2b-6660-4f35-9b3b-cb7dc68209bf"
      },
      "source": [
        "sns.barplot(data['quality'],data['sulphates'])"
      ],
      "execution_count": 78,
      "outputs": [
        {
          "output_type": "execute_result",
          "data": {
            "text/plain": [
              "<matplotlib.axes._subplots.AxesSubplot at 0x7f13920af150>"
            ]
          },
          "metadata": {
            "tags": []
          },
          "execution_count": 78
        },
        {
          "output_type": "display_data",
          "data": {
            "image/png": "[encoded data removed]",
            "text/plain": [
              "<Figure size 432x288 with 1 Axes>"
            ]
          },
          "metadata": {
            "tags": []
          }
        }
      ]
    },
    {
      "cell_type": "code",
      "metadata": {
        "id": "378yVxD4_qyF",
        "colab": {
          "base_uri": "https://localhost:8080/",
          "height": 317
        },
        "outputId": "6a0f0515-9ff5-48c5-bb01-3bc77e1b19a5"
      },
      "source": [
        "sns.barplot(data['quality'],data['alcohol'])"
      ],
      "execution_count": 79,
      "outputs": [
        {
          "output_type": "execute_result",
          "data": {
            "text/plain": [
              "<matplotlib.axes._subplots.AxesSubplot at 0x7f13920f9c10>"
            ]
          },
          "metadata": {
            "tags": []
          },
          "execution_count": 79
        },
        {
          "output_type": "display_data",
          "data": {
            "image/png": "[encoded data removed]",
            "text/plain": [
              "<Figure size 432x288 with 1 Axes>"
            ]
          },
          "metadata": {
            "tags": []
          }
        }
      ]
    },
    {
      "cell_type": "markdown",
      "metadata": {
        "id": "ZwVlCWBp_qyF"
      },
      "source": [
        "The quality of wine increases when alcohol level goes higher "
      ]
    },
    {
      "cell_type": "markdown",
      "metadata": {
        "id": "5WhlGItA_qyG"
      },
      "source": [
        "## Feature engineering"
      ]
    },
    {
      "cell_type": "code",
      "metadata": {
        "id": "Kft3qOc4_qyG",
        "colab": {
          "base_uri": "https://localhost:8080/"
        },
        "outputId": "d5e0dfb3-8f55-4549-9c58-c36729a11091"
      },
      "source": [
        "data.info()"
      ],
      "execution_count": 80,
      "outputs": [
        {
          "output_type": "stream",
          "text": [
            "<class 'pandas.core.frame.DataFrame'>\n",
            "RangeIndex: 6497 entries, 0 to 6496\n",
            "Data columns (total 13 columns):\n",
            " #   Column                Non-Null Count  Dtype  \n",
            "---  ------                --------------  -----  \n",
            " 0   type                  6497 non-null   object \n",
            " 1   fixed acidity         6487 non-null   float64\n",
            " 2   volatile acidity      6489 non-null   float64\n",
            " 3   citric acid           6494 non-null   float64\n",
            " 4   residual sugar        6495 non-null   float64\n",
            " 5   chlorides             6495 non-null   float64\n",
            " 6   free sulfur dioxide   6497 non-null   float64\n",
            " 7   total sulfur dioxide  6497 non-null   float64\n",
            " 8   density               6497 non-null   float64\n",
            " 9   pH                    6488 non-null   float64\n",
            " 10  sulphates             6493 non-null   float64\n",
            " 11  alcohol               6497 non-null   float64\n",
            " 12  quality               6497 non-null   int64  \n",
            "dtypes: float64(11), int64(1), object(1)\n",
            "memory usage: 660.0+ KB\n"
          ],
          "name": "stdout"
        }
      ]
    },
    {
      "cell_type": "code",
      "metadata": {
        "scrolled": true,
        "id": "e1jPpg7g_qyG",
        "colab": {
          "base_uri": "https://localhost:8080/"
        },
        "outputId": "b64cb405-3f26-4a08-95cd-7778ced98c52"
      },
      "source": [
        "data.isna().sum()"
      ],
      "execution_count": 81,
      "outputs": [
        {
          "output_type": "execute_result",
          "data": {
            "text/plain": [
              "type                     0\n",
              "fixed acidity           10\n",
              "volatile acidity         8\n",
              "citric acid              3\n",
              "residual sugar           2\n",
              "chlorides                2\n",
              "free sulfur dioxide      0\n",
              "total sulfur dioxide     0\n",
              "density                  0\n",
              "pH                       9\n",
              "sulphates                4\n",
              "alcohol                  0\n",
              "quality                  0\n",
              "dtype: int64"
            ]
          },
          "metadata": {
            "tags": []
          },
          "execution_count": 81
        }
      ]
    },
    {
      "cell_type": "markdown",
      "metadata": {
        "id": "YKBTFztj4ifz"
      },
      "source": [
        "Բացակայող արժեքների լրացում"
      ]
    },
    {
      "cell_type": "code",
      "metadata": {
        "id": "OaGyLLBH_qyH"
      },
      "source": [
        "def custom_fillna(df, col):\n",
        "    myu = np.mean(df[col])\n",
        "    sigma = df[col].std()\n",
        "    df[col].fillna(myu + sigma * np.random.randn(), inplace=True)\n",
        "\n",
        "for column in columns:\n",
        "    if data[column].isnull().sum() > 0:\n",
        "        custom_fillna(data, column)"
      ],
      "execution_count": 82,
      "outputs": []
    },
    {
      "cell_type": "code",
      "metadata": {
        "id": "Llm88cvA5ReE"
      },
      "source": [
        "Y = data[\"quality\"]\n",
        "X = data.drop(\"quality\", axis = 1)"
      ],
      "execution_count": 83,
      "outputs": []
    },
    {
      "cell_type": "markdown",
      "metadata": {
        "id": "Vk8h5PqQ6X3L"
      },
      "source": [
        "One hot encoding of column 'type'"
      ]
    },
    {
      "cell_type": "code",
      "metadata": {
        "id": "SNorNoqv_qyH",
        "colab": {
          "base_uri": "https://localhost:8080/",
          "height": 195
        },
        "outputId": "1bef5e46-a5d0-48bc-d06a-3b099b9bf87b"
      },
      "source": [
        "X = pd.get_dummies(data)\n",
        "X.head()"
      ],
      "execution_count": 84,
      "outputs": [
        {
          "output_type": "execute_result",
          "data": {
            "text/html": [
              "<div>\n",
              "<style scoped>\n",
              "    .dataframe tbody tr th:only-of-type {\n",
              "        vertical-align: middle;\n",
              "    }\n",
              "\n",
              "    .dataframe tbody tr th {\n",
              "        vertical-align: top;\n",
              "    }\n",
              "\n",
              "    .dataframe thead th {\n",
              "        text-align: right;\n",
              "    }\n",
              "</style>\n",
              "<table border=\"1\" class=\"dataframe\">\n",
              "  <thead>\n",
              "    <tr style=\"text-align: right;\">\n",
              "      <th></th>\n",
              "      <th>fixed acidity</th>\n",
              "      <th>volatile acidity</th>\n",
              "      <th>citric acid</th>\n",
              "      <th>residual sugar</th>\n",
              "      <th>chlorides</th>\n",
              "      <th>free sulfur dioxide</th>\n",
              "      <th>total sulfur dioxide</th>\n",
              "      <th>density</th>\n",
              "      <th>pH</th>\n",
              "      <th>sulphates</th>\n",
              "      <th>alcohol</th>\n",
              "      <th>quality</th>\n",
              "      <th>type_red</th>\n",
              "      <th>type_white</th>\n",
              "    </tr>\n",
              "  </thead>\n",
              "  <tbody>\n",
              "    <tr>\n",
              "      <th>0</th>\n",
              "      <td>7.0</td>\n",
              "      <td>0.27</td>\n",
              "      <td>0.36</td>\n",
              "      <td>20.7</td>\n",
              "      <td>0.045</td>\n",
              "      <td>45.0</td>\n",
              "      <td>170.0</td>\n",
              "      <td>1.0010</td>\n",
              "      <td>3.00</td>\n",
              "      <td>0.45</td>\n",
              "      <td>8.8</td>\n",
              "      <td>6</td>\n",
              "      <td>0</td>\n",
              "      <td>1</td>\n",
              "    </tr>\n",
              "    <tr>\n",
              "      <th>1</th>\n",
              "      <td>6.3</td>\n",
              "      <td>0.30</td>\n",
              "      <td>0.34</td>\n",
              "      <td>1.6</td>\n",
              "      <td>0.049</td>\n",
              "      <td>14.0</td>\n",
              "      <td>132.0</td>\n",
              "      <td>0.9940</td>\n",
              "      <td>3.30</td>\n",
              "      <td>0.49</td>\n",
              "      <td>9.5</td>\n",
              "      <td>6</td>\n",
              "      <td>0</td>\n",
              "      <td>1</td>\n",
              "    </tr>\n",
              "    <tr>\n",
              "      <th>2</th>\n",
              "      <td>8.1</td>\n",
              "      <td>0.28</td>\n",
              "      <td>0.40</td>\n",
              "      <td>6.9</td>\n",
              "      <td>0.050</td>\n",
              "      <td>30.0</td>\n",
              "      <td>97.0</td>\n",
              "      <td>0.9951</td>\n",
              "      <td>3.26</td>\n",
              "      <td>0.44</td>\n",
              "      <td>10.1</td>\n",
              "      <td>6</td>\n",
              "      <td>0</td>\n",
              "      <td>1</td>\n",
              "    </tr>\n",
              "    <tr>\n",
              "      <th>3</th>\n",
              "      <td>7.2</td>\n",
              "      <td>0.23</td>\n",
              "      <td>0.32</td>\n",
              "      <td>8.5</td>\n",
              "      <td>0.058</td>\n",
              "      <td>47.0</td>\n",
              "      <td>186.0</td>\n",
              "      <td>0.9956</td>\n",
              "      <td>3.19</td>\n",
              "      <td>0.40</td>\n",
              "      <td>9.9</td>\n",
              "      <td>6</td>\n",
              "      <td>0</td>\n",
              "      <td>1</td>\n",
              "    </tr>\n",
              "    <tr>\n",
              "      <th>4</th>\n",
              "      <td>7.2</td>\n",
              "      <td>0.23</td>\n",
              "      <td>0.32</td>\n",
              "      <td>8.5</td>\n",
              "      <td>0.058</td>\n",
              "      <td>47.0</td>\n",
              "      <td>186.0</td>\n",
              "      <td>0.9956</td>\n",
              "      <td>3.19</td>\n",
              "      <td>0.40</td>\n",
              "      <td>9.9</td>\n",
              "      <td>6</td>\n",
              "      <td>0</td>\n",
              "      <td>1</td>\n",
              "    </tr>\n",
              "  </tbody>\n",
              "</table>\n",
              "</div>"
            ],
            "text/plain": [
              "   fixed acidity  volatile acidity  citric acid  ...  quality  type_red  type_white\n",
              "0            7.0              0.27         0.36  ...        6         0           1\n",
              "1            6.3              0.30         0.34  ...        6         0           1\n",
              "2            8.1              0.28         0.40  ...        6         0           1\n",
              "3            7.2              0.23         0.32  ...        6         0           1\n",
              "4            7.2              0.23         0.32  ...        6         0           1\n",
              "\n",
              "[5 rows x 14 columns]"
            ]
          },
          "metadata": {
            "tags": []
          },
          "execution_count": 84
        }
      ]
    },
    {
      "cell_type": "markdown",
      "metadata": {
        "id": "2tZjme-O8ApE"
      },
      "source": [
        "We tried 2 ways of feature scaling: custom class and class from sklearn"
      ]
    },
    {
      "cell_type": "code",
      "metadata": {
        "colab": {
          "base_uri": "https://localhost:8080/",
          "height": 317
        },
        "id": "Bv3Sa3Ma8KLj",
        "outputId": "24f63daf-fb77-46dd-9947-a7fcb36c97c3"
      },
      "source": [
        "# This class is used only for columns\n",
        "class CustomScaler:\n",
        "    def __init__(self):\n",
        "        self.x_min = None\n",
        "        self.x_max = None\n",
        "    \n",
        "    def fit(self, series):\n",
        "        self.x_min = series.min()\n",
        "        self.x_max = series.max()\n",
        "    \n",
        "    def transform(self, series):\n",
        "        series -= self.x_min\n",
        "        series /= self.x_max - self.x_min\n",
        "        return self\n",
        "\n",
        "scaler=CustomScaler()\n",
        "scaler.fit(data['density'])\n",
        "scaler.transform(data['density'])\n",
        "sns.barplot(data['quality'],data['density'])"
      ],
      "execution_count": 85,
      "outputs": [
        {
          "output_type": "execute_result",
          "data": {
            "text/plain": [
              "<matplotlib.axes._subplots.AxesSubplot at 0x7f139406ad90>"
            ]
          },
          "metadata": {
            "tags": []
          },
          "execution_count": 85
        },
        {
          "output_type": "display_data",
          "data": {
            "image/png": "[encoded data removed]",
            "text/plain": [
              "<Figure size 432x288 with 1 Axes>"
            ]
          },
          "metadata": {
            "tags": []
          }
        }
      ]
    },
    {
      "cell_type": "code",
      "metadata": {
        "id": "RkSGrXjG_qyI",
        "colab": {
          "base_uri": "https://localhost:8080/",
          "height": 212
        },
        "outputId": "88eb84bb-fab7-4234-bc3b-3d055595109f"
      },
      "source": [
        "norm = StandardScaler().fit(X)\n",
        "X = pd.DataFrame(columns = X.columns, data = norm.transform(X))\n",
        "X.head()"
      ],
      "execution_count": 86,
      "outputs": [
        {
          "output_type": "execute_result",
          "data": {
            "text/html": [
              "<div>\n",
              "<style scoped>\n",
              "    .dataframe tbody tr th:only-of-type {\n",
              "        vertical-align: middle;\n",
              "    }\n",
              "\n",
              "    .dataframe tbody tr th {\n",
              "        vertical-align: top;\n",
              "    }\n",
              "\n",
              "    .dataframe thead th {\n",
              "        text-align: right;\n",
              "    }\n",
              "</style>\n",
              "<table border=\"1\" class=\"dataframe\">\n",
              "  <thead>\n",
              "    <tr style=\"text-align: right;\">\n",
              "      <th></th>\n",
              "      <th>fixed acidity</th>\n",
              "      <th>volatile acidity</th>\n",
              "      <th>citric acid</th>\n",
              "      <th>residual sugar</th>\n",
              "      <th>chlorides</th>\n",
              "      <th>free sulfur dioxide</th>\n",
              "      <th>total sulfur dioxide</th>\n",
              "      <th>density</th>\n",
              "      <th>pH</th>\n",
              "      <th>sulphates</th>\n",
              "      <th>alcohol</th>\n",
              "      <th>quality</th>\n",
              "      <th>type_red</th>\n",
              "      <th>type_white</th>\n",
              "    </tr>\n",
              "  </thead>\n",
              "  <tbody>\n",
              "    <tr>\n",
              "      <th>0</th>\n",
              "      <td>-0.167641</td>\n",
              "      <td>-0.423590</td>\n",
              "      <td>0.284164</td>\n",
              "      <td>3.206917</td>\n",
              "      <td>-0.314810</td>\n",
              "      <td>0.815565</td>\n",
              "      <td>0.959976</td>\n",
              "      <td>2.102214</td>\n",
              "      <td>-1.358949</td>\n",
              "      <td>-0.542897</td>\n",
              "      <td>-1.418558</td>\n",
              "      <td>0.207999</td>\n",
              "      <td>-0.571367</td>\n",
              "      <td>0.571367</td>\n",
              "    </tr>\n",
              "    <tr>\n",
              "      <th>1</th>\n",
              "      <td>-0.707866</td>\n",
              "      <td>-0.241258</td>\n",
              "      <td>0.146443</td>\n",
              "      <td>-0.808182</td>\n",
              "      <td>-0.200638</td>\n",
              "      <td>-0.931107</td>\n",
              "      <td>0.287618</td>\n",
              "      <td>-0.232332</td>\n",
              "      <td>0.504207</td>\n",
              "      <td>-0.274657</td>\n",
              "      <td>-0.831615</td>\n",
              "      <td>0.207999</td>\n",
              "      <td>-0.571367</td>\n",
              "      <td>0.571367</td>\n",
              "    </tr>\n",
              "    <tr>\n",
              "      <th>2</th>\n",
              "      <td>0.681285</td>\n",
              "      <td>-0.362813</td>\n",
              "      <td>0.559606</td>\n",
              "      <td>0.305956</td>\n",
              "      <td>-0.172095</td>\n",
              "      <td>-0.029599</td>\n",
              "      <td>-0.331660</td>\n",
              "      <td>0.134525</td>\n",
              "      <td>0.255786</td>\n",
              "      <td>-0.609957</td>\n",
              "      <td>-0.328521</td>\n",
              "      <td>0.207999</td>\n",
              "      <td>-0.571367</td>\n",
              "      <td>0.571367</td>\n",
              "    </tr>\n",
              "    <tr>\n",
              "      <th>3</th>\n",
              "      <td>-0.013291</td>\n",
              "      <td>-0.666700</td>\n",
              "      <td>0.008722</td>\n",
              "      <td>0.642299</td>\n",
              "      <td>0.056249</td>\n",
              "      <td>0.928254</td>\n",
              "      <td>1.243074</td>\n",
              "      <td>0.301278</td>\n",
              "      <td>-0.178950</td>\n",
              "      <td>-0.878197</td>\n",
              "      <td>-0.496219</td>\n",
              "      <td>0.207999</td>\n",
              "      <td>-0.571367</td>\n",
              "      <td>0.571367</td>\n",
              "    </tr>\n",
              "    <tr>\n",
              "      <th>4</th>\n",
              "      <td>-0.013291</td>\n",
              "      <td>-0.666700</td>\n",
              "      <td>0.008722</td>\n",
              "      <td>0.642299</td>\n",
              "      <td>0.056249</td>\n",
              "      <td>0.928254</td>\n",
              "      <td>1.243074</td>\n",
              "      <td>0.301278</td>\n",
              "      <td>-0.178950</td>\n",
              "      <td>-0.878197</td>\n",
              "      <td>-0.496219</td>\n",
              "      <td>0.207999</td>\n",
              "      <td>-0.571367</td>\n",
              "      <td>0.571367</td>\n",
              "    </tr>\n",
              "  </tbody>\n",
              "</table>\n",
              "</div>"
            ],
            "text/plain": [
              "   fixed acidity  volatile acidity  citric acid  ...   quality  type_red  type_white\n",
              "0      -0.167641         -0.423590     0.284164  ...  0.207999 -0.571367    0.571367\n",
              "1      -0.707866         -0.241258     0.146443  ...  0.207999 -0.571367    0.571367\n",
              "2       0.681285         -0.362813     0.559606  ...  0.207999 -0.571367    0.571367\n",
              "3      -0.013291         -0.666700     0.008722  ...  0.207999 -0.571367    0.571367\n",
              "4      -0.013291         -0.666700     0.008722  ...  0.207999 -0.571367    0.571367\n",
              "\n",
              "[5 rows x 14 columns]"
            ]
          },
          "metadata": {
            "tags": []
          },
          "execution_count": 86
        }
      ]
    },
    {
      "cell_type": "code",
      "metadata": {
        "id": "G76s1XD__qyK",
        "colab": {
          "base_uri": "https://localhost:8080/",
          "height": 388
        },
        "outputId": "409aca58-9916-46f1-e8d3-3be4b879a40e"
      },
      "source": [
        "X.describe()"
      ],
      "execution_count": 87,
      "outputs": [
        {
          "output_type": "execute_result",
          "data": {
            "text/html": [
              "<div>\n",
              "<style scoped>\n",
              "    .dataframe tbody tr th:only-of-type {\n",
              "        vertical-align: middle;\n",
              "    }\n",
              "\n",
              "    .dataframe tbody tr th {\n",
              "        vertical-align: top;\n",
              "    }\n",
              "\n",
              "    .dataframe thead th {\n",
              "        text-align: right;\n",
              "    }\n",
              "</style>\n",
              "<table border=\"1\" class=\"dataframe\">\n",
              "  <thead>\n",
              "    <tr style=\"text-align: right;\">\n",
              "      <th></th>\n",
              "      <th>fixed acidity</th>\n",
              "      <th>volatile acidity</th>\n",
              "      <th>citric acid</th>\n",
              "      <th>residual sugar</th>\n",
              "      <th>chlorides</th>\n",
              "      <th>free sulfur dioxide</th>\n",
              "      <th>total sulfur dioxide</th>\n",
              "      <th>density</th>\n",
              "      <th>pH</th>\n",
              "      <th>sulphates</th>\n",
              "      <th>alcohol</th>\n",
              "      <th>quality</th>\n",
              "      <th>type_red</th>\n",
              "      <th>type_white</th>\n",
              "    </tr>\n",
              "  </thead>\n",
              "  <tbody>\n",
              "    <tr>\n",
              "      <th>count</th>\n",
              "      <td>6.497000e+03</td>\n",
              "      <td>6.497000e+03</td>\n",
              "      <td>6.497000e+03</td>\n",
              "      <td>6.497000e+03</td>\n",
              "      <td>6.497000e+03</td>\n",
              "      <td>6.497000e+03</td>\n",
              "      <td>6.497000e+03</td>\n",
              "      <td>6.497000e+03</td>\n",
              "      <td>6.497000e+03</td>\n",
              "      <td>6.497000e+03</td>\n",
              "      <td>6.497000e+03</td>\n",
              "      <td>6.497000e+03</td>\n",
              "      <td>6.497000e+03</td>\n",
              "      <td>6.497000e+03</td>\n",
              "    </tr>\n",
              "    <tr>\n",
              "      <th>mean</th>\n",
              "      <td>-9.179461e-16</td>\n",
              "      <td>2.336313e-15</td>\n",
              "      <td>-1.249766e-15</td>\n",
              "      <td>-6.441754e-16</td>\n",
              "      <td>3.603056e-17</td>\n",
              "      <td>-5.712086e-16</td>\n",
              "      <td>-8.278911e-16</td>\n",
              "      <td>-4.181006e-15</td>\n",
              "      <td>1.339923e-15</td>\n",
              "      <td>2.115524e-15</td>\n",
              "      <td>-1.427842e-15</td>\n",
              "      <td>6.450811e-19</td>\n",
              "      <td>1.217988e-14</td>\n",
              "      <td>-1.217988e-14</td>\n",
              "    </tr>\n",
              "    <tr>\n",
              "      <th>std</th>\n",
              "      <td>1.000077e+00</td>\n",
              "      <td>1.000077e+00</td>\n",
              "      <td>1.000077e+00</td>\n",
              "      <td>1.000077e+00</td>\n",
              "      <td>1.000077e+00</td>\n",
              "      <td>1.000077e+00</td>\n",
              "      <td>1.000077e+00</td>\n",
              "      <td>1.000077e+00</td>\n",
              "      <td>1.000077e+00</td>\n",
              "      <td>1.000077e+00</td>\n",
              "      <td>1.000077e+00</td>\n",
              "      <td>1.000077e+00</td>\n",
              "      <td>1.000077e+00</td>\n",
              "      <td>1.000077e+00</td>\n",
              "    </tr>\n",
              "    <tr>\n",
              "      <th>min</th>\n",
              "      <td>-2.637244e+00</td>\n",
              "      <td>-1.578360e+00</td>\n",
              "      <td>-2.194815e+00</td>\n",
              "      <td>-1.018396e+00</td>\n",
              "      <td>-1.342358e+00</td>\n",
              "      <td>-1.663583e+00</td>\n",
              "      <td>-1.941780e+00</td>\n",
              "      <td>-2.530192e+00</td>\n",
              "      <td>-3.097894e+00</td>\n",
              "      <td>-2.811154e+00</td>\n",
              "      <td>-2.089350e+00</td>\n",
              "      <td>-3.227687e+00</td>\n",
              "      <td>-5.713666e-01</td>\n",
              "      <td>-1.750190e+00</td>\n",
              "    </tr>\n",
              "    <tr>\n",
              "      <th>25%</th>\n",
              "      <td>-6.306913e-01</td>\n",
              "      <td>-6.666998e-01</td>\n",
              "      <td>-4.733018e-01</td>\n",
              "      <td>-7.661387e-01</td>\n",
              "      <td>-5.146111e-01</td>\n",
              "      <td>-7.620742e-01</td>\n",
              "      <td>-6.855323e-01</td>\n",
              "      <td>-7.859527e-01</td>\n",
              "      <td>-6.757916e-01</td>\n",
              "      <td>-6.770166e-01</td>\n",
              "      <td>-8.316152e-01</td>\n",
              "      <td>-9.372296e-01</td>\n",
              "      <td>-5.713666e-01</td>\n",
              "      <td>5.713666e-01</td>\n",
              "    </tr>\n",
              "    <tr>\n",
              "      <th>50%</th>\n",
              "      <td>-1.676407e-01</td>\n",
              "      <td>-3.020358e-01</td>\n",
              "      <td>-6.013862e-02</td>\n",
              "      <td>-5.138812e-01</td>\n",
              "      <td>-2.577242e-01</td>\n",
              "      <td>-8.594301e-02</td>\n",
              "      <td>3.990667e-02</td>\n",
              "      <td>6.448888e-02</td>\n",
              "      <td>-5.473970e-02</td>\n",
              "      <td>-1.405369e-01</td>\n",
              "      <td>-1.608231e-01</td>\n",
              "      <td>2.079990e-01</td>\n",
              "      <td>-5.713666e-01</td>\n",
              "      <td>5.713666e-01</td>\n",
              "    </tr>\n",
              "    <tr>\n",
              "      <th>75%</th>\n",
              "      <td>3.725849e-01</td>\n",
              "      <td>3.665150e-01</td>\n",
              "      <td>4.907457e-01</td>\n",
              "      <td>5.582131e-01</td>\n",
              "      <td>2.560496e-01</td>\n",
              "      <td>5.901882e-01</td>\n",
              "      <td>7.122647e-01</td>\n",
              "      <td>7.648525e-01</td>\n",
              "      <td>6.284174e-01</td>\n",
              "      <td>4.630027e-01</td>\n",
              "      <td>6.776670e-01</td>\n",
              "      <td>2.079990e-01</td>\n",
              "      <td>-5.713666e-01</td>\n",
              "      <td>5.713666e-01</td>\n",
              "    </tr>\n",
              "    <tr>\n",
              "      <th>max</th>\n",
              "      <td>6.700943e+00</td>\n",
              "      <td>7.538242e+00</td>\n",
              "      <td>9.236034e+00</td>\n",
              "      <td>1.268759e+01</td>\n",
              "      <td>1.584052e+01</td>\n",
              "      <td>1.456357e+01</td>\n",
              "      <td>5.737257e+00</td>\n",
              "      <td>1.476879e+01</td>\n",
              "      <td>4.913675e+00</td>\n",
              "      <td>9.851397e+00</td>\n",
              "      <td>3.696231e+00</td>\n",
              "      <td>3.643685e+00</td>\n",
              "      <td>1.750190e+00</td>\n",
              "      <td>5.713666e-01</td>\n",
              "    </tr>\n",
              "  </tbody>\n",
              "</table>\n",
              "</div>"
            ],
            "text/plain": [
              "       fixed acidity  volatile acidity  ...      type_red    type_white\n",
              "count   6.497000e+03      6.497000e+03  ...  6.497000e+03  6.497000e+03\n",
              "mean   -9.179461e-16      2.336313e-15  ...  1.217988e-14 -1.217988e-14\n",
              "std     1.000077e+00      1.000077e+00  ...  1.000077e+00  1.000077e+00\n",
              "min    -2.637244e+00     -1.578360e+00  ... -5.713666e-01 -1.750190e+00\n",
              "25%    -6.306913e-01     -6.666998e-01  ... -5.713666e-01  5.713666e-01\n",
              "50%    -1.676407e-01     -3.020358e-01  ... -5.713666e-01  5.713666e-01\n",
              "75%     3.725849e-01      3.665150e-01  ... -5.713666e-01  5.713666e-01\n",
              "max     6.700943e+00      7.538242e+00  ...  1.750190e+00  5.713666e-01\n",
              "\n",
              "[8 rows x 14 columns]"
            ]
          },
          "metadata": {
            "tags": []
          },
          "execution_count": 87
        }
      ]
    },
    {
      "cell_type": "code",
      "metadata": {
        "scrolled": true,
        "colab": {
          "base_uri": "https://localhost:8080/",
          "height": 436
        },
        "id": "QGTSF8FO_qyJ",
        "outputId": "a498af08-ed64-476b-df66-f218fb6590e2"
      },
      "source": [
        "data.corr()"
      ],
      "execution_count": 88,
      "outputs": [
        {
          "output_type": "execute_result",
          "data": {
            "text/html": [
              "<div>\n",
              "<style scoped>\n",
              "    .dataframe tbody tr th:only-of-type {\n",
              "        vertical-align: middle;\n",
              "    }\n",
              "\n",
              "    .dataframe tbody tr th {\n",
              "        vertical-align: top;\n",
              "    }\n",
              "\n",
              "    .dataframe thead th {\n",
              "        text-align: right;\n",
              "    }\n",
              "</style>\n",
              "<table border=\"1\" class=\"dataframe\">\n",
              "  <thead>\n",
              "    <tr style=\"text-align: right;\">\n",
              "      <th></th>\n",
              "      <th>fixed acidity</th>\n",
              "      <th>volatile acidity</th>\n",
              "      <th>citric acid</th>\n",
              "      <th>residual sugar</th>\n",
              "      <th>chlorides</th>\n",
              "      <th>free sulfur dioxide</th>\n",
              "      <th>total sulfur dioxide</th>\n",
              "      <th>density</th>\n",
              "      <th>pH</th>\n",
              "      <th>sulphates</th>\n",
              "      <th>alcohol</th>\n",
              "      <th>quality</th>\n",
              "    </tr>\n",
              "  </thead>\n",
              "  <tbody>\n",
              "    <tr>\n",
              "      <th>fixed acidity</th>\n",
              "      <td>1.000000</td>\n",
              "      <td>0.220132</td>\n",
              "      <td>0.323007</td>\n",
              "      <td>-0.112162</td>\n",
              "      <td>0.297746</td>\n",
              "      <td>-0.283344</td>\n",
              "      <td>-0.329345</td>\n",
              "      <td>0.458883</td>\n",
              "      <td>-0.251144</td>\n",
              "      <td>0.300493</td>\n",
              "      <td>-0.095544</td>\n",
              "      <td>-0.077028</td>\n",
              "    </tr>\n",
              "    <tr>\n",
              "      <th>volatile acidity</th>\n",
              "      <td>0.220132</td>\n",
              "      <td>1.000000</td>\n",
              "      <td>-0.377696</td>\n",
              "      <td>-0.196642</td>\n",
              "      <td>0.377075</td>\n",
              "      <td>-0.353056</td>\n",
              "      <td>-0.414693</td>\n",
              "      <td>0.271103</td>\n",
              "      <td>0.259403</td>\n",
              "      <td>0.223252</td>\n",
              "      <td>-0.038224</td>\n",
              "      <td>-0.265832</td>\n",
              "    </tr>\n",
              "    <tr>\n",
              "      <th>citric acid</th>\n",
              "      <td>0.323007</td>\n",
              "      <td>-0.377696</td>\n",
              "      <td>1.000000</td>\n",
              "      <td>0.142489</td>\n",
              "      <td>0.039037</td>\n",
              "      <td>0.133466</td>\n",
              "      <td>0.195180</td>\n",
              "      <td>0.096347</td>\n",
              "      <td>-0.327205</td>\n",
              "      <td>0.059646</td>\n",
              "      <td>-0.010465</td>\n",
              "      <td>0.085685</td>\n",
              "    </tr>\n",
              "    <tr>\n",
              "      <th>residual sugar</th>\n",
              "      <td>-0.112162</td>\n",
              "      <td>-0.196642</td>\n",
              "      <td>0.142489</td>\n",
              "      <td>1.000000</td>\n",
              "      <td>-0.129141</td>\n",
              "      <td>0.403315</td>\n",
              "      <td>0.495745</td>\n",
              "      <td>0.552468</td>\n",
              "      <td>-0.266303</td>\n",
              "      <td>-0.184801</td>\n",
              "      <td>-0.359697</td>\n",
              "      <td>-0.036782</td>\n",
              "    </tr>\n",
              "    <tr>\n",
              "      <th>chlorides</th>\n",
              "      <td>0.297746</td>\n",
              "      <td>0.377075</td>\n",
              "      <td>0.039037</td>\n",
              "      <td>-0.129141</td>\n",
              "      <td>1.000000</td>\n",
              "      <td>-0.194929</td>\n",
              "      <td>-0.279580</td>\n",
              "      <td>0.362566</td>\n",
              "      <td>0.045084</td>\n",
              "      <td>0.394020</td>\n",
              "      <td>-0.256884</td>\n",
              "      <td>-0.200451</td>\n",
              "    </tr>\n",
              "    <tr>\n",
              "      <th>free sulfur dioxide</th>\n",
              "      <td>-0.283344</td>\n",
              "      <td>-0.353056</td>\n",
              "      <td>0.133466</td>\n",
              "      <td>0.403315</td>\n",
              "      <td>-0.194929</td>\n",
              "      <td>1.000000</td>\n",
              "      <td>0.720934</td>\n",
              "      <td>0.025717</td>\n",
              "      <td>-0.144871</td>\n",
              "      <td>-0.188009</td>\n",
              "      <td>-0.179838</td>\n",
              "      <td>0.055463</td>\n",
              "    </tr>\n",
              "    <tr>\n",
              "      <th>total sulfur dioxide</th>\n",
              "      <td>-0.329345</td>\n",
              "      <td>-0.414693</td>\n",
              "      <td>0.195180</td>\n",
              "      <td>0.495745</td>\n",
              "      <td>-0.279580</td>\n",
              "      <td>0.720934</td>\n",
              "      <td>1.000000</td>\n",
              "      <td>0.032395</td>\n",
              "      <td>-0.237340</td>\n",
              "      <td>-0.273962</td>\n",
              "      <td>-0.265740</td>\n",
              "      <td>-0.041385</td>\n",
              "    </tr>\n",
              "    <tr>\n",
              "      <th>density</th>\n",
              "      <td>0.458883</td>\n",
              "      <td>0.271103</td>\n",
              "      <td>0.096347</td>\n",
              "      <td>0.552468</td>\n",
              "      <td>0.362566</td>\n",
              "      <td>0.025717</td>\n",
              "      <td>0.032395</td>\n",
              "      <td>1.000000</td>\n",
              "      <td>0.011659</td>\n",
              "      <td>0.258474</td>\n",
              "      <td>-0.686745</td>\n",
              "      <td>-0.305858</td>\n",
              "    </tr>\n",
              "    <tr>\n",
              "      <th>pH</th>\n",
              "      <td>-0.251144</td>\n",
              "      <td>0.259403</td>\n",
              "      <td>-0.327205</td>\n",
              "      <td>-0.266303</td>\n",
              "      <td>0.045084</td>\n",
              "      <td>-0.144871</td>\n",
              "      <td>-0.237340</td>\n",
              "      <td>0.011659</td>\n",
              "      <td>1.000000</td>\n",
              "      <td>0.188212</td>\n",
              "      <td>0.120299</td>\n",
              "      <td>0.019519</td>\n",
              "    </tr>\n",
              "    <tr>\n",
              "      <th>sulphates</th>\n",
              "      <td>0.300493</td>\n",
              "      <td>0.223252</td>\n",
              "      <td>0.059646</td>\n",
              "      <td>-0.184801</td>\n",
              "      <td>0.394020</td>\n",
              "      <td>-0.188009</td>\n",
              "      <td>-0.273962</td>\n",
              "      <td>0.258474</td>\n",
              "      <td>0.188212</td>\n",
              "      <td>1.000000</td>\n",
              "      <td>-0.003265</td>\n",
              "      <td>0.039746</td>\n",
              "    </tr>\n",
              "    <tr>\n",
              "      <th>alcohol</th>\n",
              "      <td>-0.095544</td>\n",
              "      <td>-0.038224</td>\n",
              "      <td>-0.010465</td>\n",
              "      <td>-0.359697</td>\n",
              "      <td>-0.256884</td>\n",
              "      <td>-0.179838</td>\n",
              "      <td>-0.265740</td>\n",
              "      <td>-0.686745</td>\n",
              "      <td>0.120299</td>\n",
              "      <td>-0.003265</td>\n",
              "      <td>1.000000</td>\n",
              "      <td>0.444319</td>\n",
              "    </tr>\n",
              "    <tr>\n",
              "      <th>quality</th>\n",
              "      <td>-0.077028</td>\n",
              "      <td>-0.265832</td>\n",
              "      <td>0.085685</td>\n",
              "      <td>-0.036782</td>\n",
              "      <td>-0.200451</td>\n",
              "      <td>0.055463</td>\n",
              "      <td>-0.041385</td>\n",
              "      <td>-0.305858</td>\n",
              "      <td>0.019519</td>\n",
              "      <td>0.039746</td>\n",
              "      <td>0.444319</td>\n",
              "      <td>1.000000</td>\n",
              "    </tr>\n",
              "  </tbody>\n",
              "</table>\n",
              "</div>"
            ],
            "text/plain": [
              "                      fixed acidity  volatile acidity  ...   alcohol   quality\n",
              "fixed acidity              1.000000          0.220132  ... -0.095544 -0.077028\n",
              "volatile acidity           0.220132          1.000000  ... -0.038224 -0.265832\n",
              "citric acid                0.323007         -0.377696  ... -0.010465  0.085685\n",
              "residual sugar            -0.112162         -0.196642  ... -0.359697 -0.036782\n",
              "chlorides                  0.297746          0.377075  ... -0.256884 -0.200451\n",
              "free sulfur dioxide       -0.283344         -0.353056  ... -0.179838  0.055463\n",
              "total sulfur dioxide      -0.329345         -0.414693  ... -0.265740 -0.041385\n",
              "density                    0.458883          0.271103  ... -0.686745 -0.305858\n",
              "pH                        -0.251144          0.259403  ...  0.120299  0.019519\n",
              "sulphates                  0.300493          0.223252  ... -0.003265  0.039746\n",
              "alcohol                   -0.095544         -0.038224  ...  1.000000  0.444319\n",
              "quality                   -0.077028         -0.265832  ...  0.444319  1.000000\n",
              "\n",
              "[12 rows x 12 columns]"
            ]
          },
          "metadata": {
            "tags": []
          },
          "execution_count": 88
        }
      ]
    },
    {
      "cell_type": "markdown",
      "metadata": {
        "id": "ybWYHIIJ_qyI"
      },
      "source": [
        "# Models and cross validation\n"
      ]
    },
    {
      "cell_type": "code",
      "metadata": {
        "id": "YaQtreK3_qyJ"
      },
      "source": [
        "kf = KFold(n_splits = 7, shuffle = True, random_state = 1)\n",
        "def Classify(models, X, Y):\n",
        "    for model in models:\n",
        "        accuracy = []\n",
        "\n",
        "        for train_index, test_index in kf.split(X):\n",
        "            X_train, X_test = X.loc[train_index], X.loc[test_index] \n",
        "            Y_train, Y_test = Y[train_index], Y[test_index]\n",
        "            model.fit(X_train, Y_train)\n",
        "            predictions= model.predict(X_test) \n",
        "            accuracy.append(accuracy_score(predictions, Y_test))\n",
        "        print('Accuracy is', np.mean(accuracy))"
      ],
      "execution_count": 89,
      "outputs": []
    },
    {
      "cell_type": "code",
      "metadata": {
        "id": "qn2H26z3_qyL",
        "colab": {
          "base_uri": "https://localhost:8080/"
        },
        "outputId": "486bbb2d-c1c9-408a-cfbe-041a89c046ae"
      },
      "source": [
        "lr = LogisticRegression(penalty = \"l2\", class_weight = \"balanced\")\n",
        "rfc = RandomForestClassifier(random_state = 0)\n",
        "dtc = DecisionTreeClassifier(max_depth = 3)\n",
        "models = [rfc, lr, dtc]\n",
        "Classify(models, X, Y)"
      ],
      "execution_count": 90,
      "outputs": [
        {
          "output_type": "stream",
          "text": [
            "Accuracy is 0.9949204478569572\n",
            "Accuracy is 0.9996921182266009\n",
            "Accuracy is 0.9992304612725161\n"
          ],
          "name": "stdout"
        }
      ]
    },
    {
      "cell_type": "markdown",
      "metadata": {
        "id": "7a4OSys56zPj"
      },
      "source": [
        "Copied code to find feature importances"
      ]
    },
    {
      "cell_type": "code",
      "metadata": {
        "id": "Rmcd5W3s_qyL",
        "colab": {
          "base_uri": "https://localhost:8080/",
          "height": 1000
        },
        "outputId": "fc799539-04a8-480c-9631-5249c875252a"
      },
      "source": [
        "feats = {}\n",
        "for feature, importance in zip(data.columns, rfc.feature_importances_):\n",
        "    feats[feature] = importance\n",
        "importances = pd.DataFrame.from_dict(feats, orient='index').rename(columns={0: 'Gini-Importance'})\n",
        "importances = importances.sort_values(by='Gini-Importance', ascending=False)\n",
        "importances = importances.reset_index()\n",
        "importances = importances.rename(columns={'index': 'Features'})\n",
        "sns.set(font_scale = 5)\n",
        "sns.set(style=\"whitegrid\", color_codes=True, font_scale = 1.7)\n",
        "fig, ax = plt.subplots()\n",
        "fig.set_size_inches(30,15)\n",
        "sns.barplot(x=importances['Gini-Importance'], y=importances['Features'], data=importances, color='skyblue')\n",
        "plt.xlabel('Importance', fontsize=25, weight = 'bold')\n",
        "plt.ylabel('Features', fontsize=25, weight = 'bold')\n",
        "plt.title('Feature Importance', fontsize=25, weight = 'bold')\n",
        "display(plt.show())\n",
        "display(importances)"
      ],
      "execution_count": 91,
      "outputs": [
        {
          "output_type": "display_data",
          "data": {
            "image/png": "[encoded data removed]",
            "text/plain": [
              "<Figure size 2160x1080 with 1 Axes>"
            ]
          },
          "metadata": {
            "tags": []
          }
        },
        {
          "output_type": "display_data",
          "data": {
            "text/plain": [
              "None"
            ]
          },
          "metadata": {
            "tags": []
          }
        },
        {
          "output_type": "display_data",
          "data": {
            "text/html": [
              "<div>\n",
              "<style scoped>\n",
              "    .dataframe tbody tr th:only-of-type {\n",
              "        vertical-align: middle;\n",
              "    }\n",
              "\n",
              "    .dataframe tbody tr th {\n",
              "        vertical-align: top;\n",
              "    }\n",
              "\n",
              "    .dataframe thead th {\n",
              "        text-align: right;\n",
              "    }\n",
              "</style>\n",
              "<table border=\"1\" class=\"dataframe\">\n",
              "  <thead>\n",
              "    <tr style=\"text-align: right;\">\n",
              "      <th></th>\n",
              "      <th>Features</th>\n",
              "      <th>Gini-Importance</th>\n",
              "    </tr>\n",
              "  </thead>\n",
              "  <tbody>\n",
              "    <tr>\n",
              "      <th>0</th>\n",
              "      <td>alcohol</td>\n",
              "      <td>0.744234</td>\n",
              "    </tr>\n",
              "    <tr>\n",
              "      <th>1</th>\n",
              "      <td>sulphates</td>\n",
              "      <td>0.051668</td>\n",
              "    </tr>\n",
              "    <tr>\n",
              "      <th>2</th>\n",
              "      <td>total sulfur dioxide</td>\n",
              "      <td>0.027262</td>\n",
              "    </tr>\n",
              "    <tr>\n",
              "      <th>3</th>\n",
              "      <td>fixed acidity</td>\n",
              "      <td>0.026709</td>\n",
              "    </tr>\n",
              "    <tr>\n",
              "      <th>4</th>\n",
              "      <td>free sulfur dioxide</td>\n",
              "      <td>0.020427</td>\n",
              "    </tr>\n",
              "    <tr>\n",
              "      <th>5</th>\n",
              "      <td>residual sugar</td>\n",
              "      <td>0.019876</td>\n",
              "    </tr>\n",
              "    <tr>\n",
              "      <th>6</th>\n",
              "      <td>pH</td>\n",
              "      <td>0.019543</td>\n",
              "    </tr>\n",
              "    <tr>\n",
              "      <th>7</th>\n",
              "      <td>citric acid</td>\n",
              "      <td>0.019222</td>\n",
              "    </tr>\n",
              "    <tr>\n",
              "      <th>8</th>\n",
              "      <td>chlorides</td>\n",
              "      <td>0.018898</td>\n",
              "    </tr>\n",
              "    <tr>\n",
              "      <th>9</th>\n",
              "      <td>volatile acidity</td>\n",
              "      <td>0.017313</td>\n",
              "    </tr>\n",
              "    <tr>\n",
              "      <th>10</th>\n",
              "      <td>density</td>\n",
              "      <td>0.016761</td>\n",
              "    </tr>\n",
              "    <tr>\n",
              "      <th>11</th>\n",
              "      <td>type</td>\n",
              "      <td>0.015754</td>\n",
              "    </tr>\n",
              "    <tr>\n",
              "      <th>12</th>\n",
              "      <td>quality</td>\n",
              "      <td>0.001297</td>\n",
              "    </tr>\n",
              "  </tbody>\n",
              "</table>\n",
              "</div>"
            ],
            "text/plain": [
              "                Features  Gini-Importance\n",
              "0                alcohol         0.744234\n",
              "1              sulphates         0.051668\n",
              "2   total sulfur dioxide         0.027262\n",
              "3          fixed acidity         0.026709\n",
              "4    free sulfur dioxide         0.020427\n",
              "5         residual sugar         0.019876\n",
              "6                     pH         0.019543\n",
              "7            citric acid         0.019222\n",
              "8              chlorides         0.018898\n",
              "9       volatile acidity         0.017313\n",
              "10               density         0.016761\n",
              "11                  type         0.015754\n",
              "12               quality         0.001297"
            ]
          },
          "metadata": {
            "tags": []
          }
        }
      ]
    },
    {
      "cell_type": "code",
      "metadata": {
        "id": "XLL1LaLp_qyM",
        "colab": {
          "base_uri": "https://localhost:8080/",
          "height": 433
        },
        "outputId": "2c8b8f96-5cde-4a86-8099-cbd8609e18ec"
      },
      "source": [
        "plot_tree(dtc)"
      ],
      "execution_count": 34,
      "outputs": [
        {
          "output_type": "execute_result",
          "data": {
            "text/plain": [
              "[Text(167.40000000000003, 190.26, 'X[11] <= 5.5\\ngini = 0.672\\nsamples = 5569\\nvalue = [25, 184, 1814, 2430, 950, 161, 5]'),\n",
              " Text(100.44000000000001, 135.9, 'X[11] <= 4.5\\ngini = 0.188\\nsamples = 2023\\nvalue = [25, 184, 1814, 0, 0, 0, 0]'),\n",
              " Text(66.96000000000001, 81.53999999999999, 'X[11] <= 3.5\\ngini = 0.211\\nsamples = 209\\nvalue = [25, 184, 0, 0, 0, 0, 0]'),\n",
              " Text(33.480000000000004, 27.180000000000007, 'gini = 0.0\\nsamples = 25\\nvalue = [25, 0, 0, 0, 0, 0, 0]'),\n",
              " Text(100.44000000000001, 27.180000000000007, 'gini = 0.0\\nsamples = 184\\nvalue = [0, 184, 0, 0, 0, 0, 0]'),\n",
              " Text(133.92000000000002, 81.53999999999999, 'gini = 0.0\\nsamples = 1814\\nvalue = [0, 0, 1814, 0, 0, 0, 0]'),\n",
              " Text(234.36, 135.9, 'X[11] <= 6.5\\ngini = 0.457\\nsamples = 3546\\nvalue = [0, 0, 0, 2430, 950, 161, 5]'),\n",
              " Text(200.88000000000002, 81.53999999999999, 'gini = 0.0\\nsamples = 2430\\nvalue = [0, 0, 0, 2430, 0, 0, 0]'),\n",
              " Text(267.84000000000003, 81.53999999999999, 'X[11] <= 7.5\\ngini = 0.255\\nsamples = 1116\\nvalue = [0, 0, 0, 0, 950, 161, 5]'),\n",
              " Text(234.36, 27.180000000000007, 'gini = 0.0\\nsamples = 950\\nvalue = [0, 0, 0, 0, 950, 0, 0]'),\n",
              " Text(301.32000000000005, 27.180000000000007, 'gini = 0.058\\nsamples = 166\\nvalue = [0, 0, 0, 0, 0, 161, 5]')]"
            ]
          },
          "metadata": {
            "tags": []
          },
          "execution_count": 34
        },
        {
          "output_type": "display_data",
          "data": {
            "image/png": "[encoded data removed]",
            "text/plain": [
              "<Figure size 432x288 with 1 Axes>"
            ]
          },
          "metadata": {
            "tags": []
          }
        }
      ]
    }
  ]
}